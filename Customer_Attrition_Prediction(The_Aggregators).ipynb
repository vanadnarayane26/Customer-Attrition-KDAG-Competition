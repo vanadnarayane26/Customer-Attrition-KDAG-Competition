{
  "nbformat": 4,
  "nbformat_minor": 0,
  "metadata": {
    "colab": {
      "name": "Customer Attrition Prediction(The Aggregators).ipynb",
      "provenance": [],
      "collapsed_sections": [],
      "toc_visible": true,
      "include_colab_link": true
    },
    "kernelspec": {
      "name": "python3",
      "display_name": "Python 3"
    },
    "language_info": {
      "name": "python"
    }
  },
  "cells": [
    {
      "cell_type": "markdown",
      "metadata": {
        "id": "view-in-github",
        "colab_type": "text"
      },
      "source": [
        "<a href=\"https://colab.research.google.com/github/vanadnarayane26/Customer-Attrition-KDAG-Competition/blob/main/Customer_Attrition_Prediction(The_Aggregators).ipynb\" target=\"_parent\"><img src=\"https://colab.research.google.com/assets/colab-badge.svg\" alt=\"Open In Colab\"/></a>"
      ]
    },
    {
      "cell_type": "code",
      "metadata": {
        "colab": {
          "base_uri": "https://localhost:8080/"
        },
        "id": "aYkipfewBNq8",
        "outputId": "4979576e-6d1a-4b5d-99d5-c264004194c6"
      },
      "source": [
        "import gdown\n",
        "!gdown https://drive.google.com/uc?id=1M_dGd1LUBVFf_YbRICQacFtNqVxlpYoe"
      ],
      "execution_count": null,
      "outputs": [
        {
          "output_type": "stream",
          "text": [
            "Downloading...\n",
            "From: https://drive.google.com/uc?id=1M_dGd1LUBVFf_YbRICQacFtNqVxlpYoe\n",
            "To: /content/customerattritionprediction.zip\n",
            "\r  0% 0.00/280k [00:00<?, ?B/s]\r100% 280k/280k [00:00<00:00, 40.6MB/s]\n"
          ],
          "name": "stdout"
        }
      ]
    },
    {
      "cell_type": "code",
      "metadata": {
        "colab": {
          "base_uri": "https://localhost:8080/"
        },
        "id": "Z3_c2pUwBkuy",
        "outputId": "5af36f6b-7684-437e-b018-ea45a39fbde8"
      },
      "source": [
        "!unzip /content/customerattritionprediction.zip"
      ],
      "execution_count": null,
      "outputs": [
        {
          "output_type": "stream",
          "text": [
            "Archive:  /content/customerattritionprediction.zip\n",
            "  inflating: Sample Submission.csv   \n",
            "  inflating: test.csv                \n",
            "  inflating: train.csv               \n"
          ],
          "name": "stdout"
        }
      ]
    },
    {
      "cell_type": "code",
      "metadata": {
        "id": "niRuHyX-CJ6i"
      },
      "source": [
        "\n",
        "import pandas as pd\n",
        "import numpy as np\n",
        "import matplotlib.pyplot as plt\n",
        "import seaborn as sns"
      ],
      "execution_count": null,
      "outputs": []
    },
    {
      "cell_type": "code",
      "metadata": {
        "colab": {
          "base_uri": "https://localhost:8080/"
        },
        "id": "QCH4692YCXu8",
        "outputId": "52b462a8-f683-477b-8378-7bd02e8f5b4d"
      },
      "source": [
        "df = pd.read_csv('/content/train.csv')\n",
        "df.head()"
      ],
      "execution_count": null,
      "outputs": [
        {
          "output_type": "execute_result",
          "data": {
            "text/html": [
              "<div>\n",
              "<style scoped>\n",
              "    .dataframe tbody tr th:only-of-type {\n",
              "        vertical-align: middle;\n",
              "    }\n",
              "\n",
              "    .dataframe tbody tr th {\n",
              "        vertical-align: top;\n",
              "    }\n",
              "\n",
              "    .dataframe thead th {\n",
              "        text-align: right;\n",
              "    }\n",
              "</style>\n",
              "<table border=\"1\" class=\"dataframe\">\n",
              "  <thead>\n",
              "    <tr style=\"text-align: right;\">\n",
              "      <th></th>\n",
              "      <th>ID</th>\n",
              "      <th>sex</th>\n",
              "      <th>Aged</th>\n",
              "      <th>Married</th>\n",
              "      <th>TotalDependents</th>\n",
              "      <th>ServiceSpan</th>\n",
              "      <th>MobileService</th>\n",
              "      <th>4GService</th>\n",
              "      <th>CyberProtection</th>\n",
              "      <th>HardwareSupport</th>\n",
              "      <th>TechnicalAssistance</th>\n",
              "      <th>FilmSubscription</th>\n",
              "      <th>SettlementProcess</th>\n",
              "      <th>QuarterlyPayment</th>\n",
              "      <th>GrandPayment</th>\n",
              "      <th>CustomerAttrition</th>\n",
              "    </tr>\n",
              "  </thead>\n",
              "  <tbody>\n",
              "    <tr>\n",
              "      <th>0</th>\n",
              "      <td>B60LHTZLLPFU4IULNPUF</td>\n",
              "      <td>Female</td>\n",
              "      <td>No</td>\n",
              "      <td>No</td>\n",
              "      <td>Yes</td>\n",
              "      <td>48</td>\n",
              "      <td>Yes</td>\n",
              "      <td>Wifi Broadband</td>\n",
              "      <td>No</td>\n",
              "      <td>Yes</td>\n",
              "      <td>Yes</td>\n",
              "      <td>No</td>\n",
              "      <td>Check</td>\n",
              "      <td>96.259802</td>\n",
              "      <td>4628.129119</td>\n",
              "      <td>Yes</td>\n",
              "    </tr>\n",
              "    <tr>\n",
              "      <th>1</th>\n",
              "      <td>1RUJ7ONYZHYTWKOKO1SD</td>\n",
              "      <td>Male</td>\n",
              "      <td>No</td>\n",
              "      <td>Yes</td>\n",
              "      <td>No</td>\n",
              "      <td>45</td>\n",
              "      <td>Yes</td>\n",
              "      <td>Wifi Broadband</td>\n",
              "      <td>No</td>\n",
              "      <td>No</td>\n",
              "      <td>No</td>\n",
              "      <td>Yes</td>\n",
              "      <td>Bank</td>\n",
              "      <td>18.876470</td>\n",
              "      <td>922.085998</td>\n",
              "      <td>No</td>\n",
              "    </tr>\n",
              "    <tr>\n",
              "      <th>2</th>\n",
              "      <td>DZ9EEOQWSN0MYCBUPAM5</td>\n",
              "      <td>Male</td>\n",
              "      <td>Yes</td>\n",
              "      <td>Yes</td>\n",
              "      <td>No</td>\n",
              "      <td>59</td>\n",
              "      <td>Yes</td>\n",
              "      <td>Wifi Broadband</td>\n",
              "      <td>Yes</td>\n",
              "      <td>No</td>\n",
              "      <td>Yes</td>\n",
              "      <td>No</td>\n",
              "      <td>Card</td>\n",
              "      <td>106.016057</td>\n",
              "      <td>6205.891129</td>\n",
              "      <td>Yes</td>\n",
              "    </tr>\n",
              "    <tr>\n",
              "      <th>3</th>\n",
              "      <td>YZ43L1UQUQACTL1PXXZG</td>\n",
              "      <td>Male</td>\n",
              "      <td>No</td>\n",
              "      <td>No</td>\n",
              "      <td>No</td>\n",
              "      <td>14</td>\n",
              "      <td>Yes</td>\n",
              "      <td>Wifi Broadband</td>\n",
              "      <td>No</td>\n",
              "      <td>No</td>\n",
              "      <td>No</td>\n",
              "      <td>No</td>\n",
              "      <td>Check</td>\n",
              "      <td>80.108839</td>\n",
              "      <td>1248.655391</td>\n",
              "      <td>No</td>\n",
              "    </tr>\n",
              "    <tr>\n",
              "      <th>4</th>\n",
              "      <td>6P28152QGF60PDLSCB9M</td>\n",
              "      <td>Female</td>\n",
              "      <td>No</td>\n",
              "      <td>Yes</td>\n",
              "      <td>Yes</td>\n",
              "      <td>25</td>\n",
              "      <td>Yes</td>\n",
              "      <td>Wifi Broadband</td>\n",
              "      <td>No</td>\n",
              "      <td>Yes</td>\n",
              "      <td>No</td>\n",
              "      <td>Yes</td>\n",
              "      <td>Check</td>\n",
              "      <td>51.529773</td>\n",
              "      <td>1285.321277</td>\n",
              "      <td>No</td>\n",
              "    </tr>\n",
              "  </tbody>\n",
              "</table>\n",
              "</div>"
            ],
            "text/plain": [
              "                     ID     sex  ... GrandPayment CustomerAttrition\n",
              "0  B60LHTZLLPFU4IULNPUF  Female  ...  4628.129119               Yes\n",
              "1  1RUJ7ONYZHYTWKOKO1SD    Male  ...   922.085998                No\n",
              "2  DZ9EEOQWSN0MYCBUPAM5    Male  ...  6205.891129               Yes\n",
              "3  YZ43L1UQUQACTL1PXXZG    Male  ...  1248.655391                No\n",
              "4  6P28152QGF60PDLSCB9M  Female  ...  1285.321277                No\n",
              "\n",
              "[5 rows x 16 columns]"
            ]
          },
          "metadata": {
            "tags": []
          },
          "execution_count": 4
        }
      ]
    },
    {
      "cell_type": "code",
      "metadata": {
        "colab": {
          "base_uri": "https://localhost:8080/"
        },
        "id": "XbQ_ScNlCdw2",
        "outputId": "93d66209-a62f-43d6-d5f1-7c9b295c18a6"
      },
      "source": [
        "df.info()"
      ],
      "execution_count": null,
      "outputs": [
        {
          "output_type": "stream",
          "text": [
            "<class 'pandas.core.frame.DataFrame'>\n",
            "RangeIndex: 6338 entries, 0 to 6337\n",
            "Data columns (total 16 columns):\n",
            " #   Column               Non-Null Count  Dtype  \n",
            "---  ------               --------------  -----  \n",
            " 0   ID                   6338 non-null   object \n",
            " 1   sex                  6338 non-null   object \n",
            " 2   Aged                 6338 non-null   object \n",
            " 3   Married              6338 non-null   object \n",
            " 4   TotalDependents      6338 non-null   object \n",
            " 5   ServiceSpan          6338 non-null   int64  \n",
            " 6   MobileService        6338 non-null   object \n",
            " 7   4GService            6338 non-null   object \n",
            " 8   CyberProtection      6338 non-null   object \n",
            " 9   HardwareSupport      6338 non-null   object \n",
            " 10  TechnicalAssistance  6338 non-null   object \n",
            " 11  FilmSubscription     6338 non-null   object \n",
            " 12  SettlementProcess    6338 non-null   object \n",
            " 13  QuarterlyPayment     6338 non-null   float64\n",
            " 14  GrandPayment         6328 non-null   float64\n",
            " 15  CustomerAttrition    6338 non-null   object \n",
            "dtypes: float64(2), int64(1), object(13)\n",
            "memory usage: 792.4+ KB\n"
          ],
          "name": "stdout"
        }
      ]
    },
    {
      "cell_type": "code",
      "metadata": {
        "id": "fBfT543_OYWY"
      },
      "source": [
        "df_copy = df.copy()"
      ],
      "execution_count": null,
      "outputs": []
    },
    {
      "cell_type": "code",
      "metadata": {
        "colab": {
          "base_uri": "https://localhost:8080/",
          "height": 355
        },
        "id": "Al2Xx1BOZ0vL",
        "outputId": "1aad16c7-3558-417a-85fd-9e013919e365"
      },
      "source": [
        "df['CustomerAttrition'].value_counts().plot.bar()#Imbalanced Data\n",
        "plt.show()\n",
        "print(df['CustomerAttrition'].describe())"
      ],
      "execution_count": null,
      "outputs": [
        {
          "output_type": "display_data",
          "data": {
            "image/png": "[encoded data removed]",
            "text/plain": [
              "<Figure size 432x288 with 1 Axes>"
            ]
          },
          "metadata": {
            "tags": [],
            "needs_background": "light"
          }
        },
        {
          "output_type": "stream",
          "text": [
            "count     6338\n",
            "unique       2\n",
            "top         No\n",
            "freq      4658\n",
            "Name: CustomerAttrition, dtype: object\n"
          ],
          "name": "stdout"
        }
      ]
    },
    {
      "cell_type": "markdown",
      "metadata": {
        "id": "RxPHplcKDQRV"
      },
      "source": [
        "###Missing values only in Grand payment. Replacement according to the distribution that the feature follows. Most probably mean or median.\n"
      ]
    },
    {
      "cell_type": "code",
      "metadata": {
        "colab": {
          "base_uri": "https://localhost:8080/"
        },
        "id": "szsCZVolDOqL",
        "outputId": "b7ed69b0-a175-4bf8-fe7e-c9cdd7aa9a5d"
      },
      "source": [
        "df['sex'].describe()"
      ],
      "execution_count": null,
      "outputs": [
        {
          "output_type": "execute_result",
          "data": {
            "text/plain": [
              "count     6338\n",
              "unique       2\n",
              "top       Male\n",
              "freq      3213\n",
              "Name: sex, dtype: object"
            ]
          },
          "metadata": {
            "tags": []
          },
          "execution_count": 8
        }
      ]
    },
    {
      "cell_type": "code",
      "metadata": {
        "colab": {
          "base_uri": "https://localhost:8080/",
          "height": 291
        },
        "id": "cyVxmsQnFiDu",
        "outputId": "7349f5c5-3999-435f-a453-5b9531a9c645"
      },
      "source": [
        "df['sex'].value_counts().plot.bar()\n",
        "plt.show()"
      ],
      "execution_count": null,
      "outputs": [
        {
          "output_type": "display_data",
          "data": {
            "image/png": "[encoded data removed]",
            "text/plain": [
              "<Figure size 432x288 with 1 Axes>"
            ]
          },
          "metadata": {
            "tags": [],
            "needs_background": "light"
          }
        }
      ]
    },
    {
      "cell_type": "code",
      "metadata": {
        "colab": {
          "base_uri": "https://localhost:8080/"
        },
        "id": "D0oodug3FmWE",
        "outputId": "3c991261-1be9-4836-9516-efff454f5eda"
      },
      "source": [
        "df['Aged'].describe()"
      ],
      "execution_count": null,
      "outputs": [
        {
          "output_type": "execute_result",
          "data": {
            "text/plain": [
              "count     6338\n",
              "unique       2\n",
              "top         No\n",
              "freq      5309\n",
              "Name: Aged, dtype: object"
            ]
          },
          "metadata": {
            "tags": []
          },
          "execution_count": 10
        }
      ]
    },
    {
      "cell_type": "code",
      "metadata": {
        "colab": {
          "base_uri": "https://localhost:8080/",
          "height": 288
        },
        "id": "BGzUIpGoHalO",
        "outputId": "ab8753cb-9219-4a05-e139-2a0da9b54768"
      },
      "source": [
        "df['Aged'].value_counts().plot.bar() #imbalanced"
      ],
      "execution_count": null,
      "outputs": [
        {
          "output_type": "execute_result",
          "data": {
            "text/plain": [
              "<matplotlib.axes._subplots.AxesSubplot at 0x7f0e92b58cd0>"
            ]
          },
          "metadata": {
            "tags": []
          },
          "execution_count": 11
        },
        {
          "output_type": "display_data",
          "data": {
            "image/png": "[encoded data removed]",
            "text/plain": [
              "<Figure size 432x288 with 1 Axes>"
            ]
          },
          "metadata": {
            "tags": [],
            "needs_background": "light"
          }
        }
      ]
    },
    {
      "cell_type": "code",
      "metadata": {
        "colab": {
          "base_uri": "https://localhost:8080/"
        },
        "id": "wrXyeb1xH19P",
        "outputId": "f3626297-1183-465e-c92b-1706b1fd1185"
      },
      "source": [
        "df['Married'].describe()"
      ],
      "execution_count": null,
      "outputs": [
        {
          "output_type": "execute_result",
          "data": {
            "text/plain": [
              "count     6338\n",
              "unique       2\n",
              "top         No\n",
              "freq      3273\n",
              "Name: Married, dtype: object"
            ]
          },
          "metadata": {
            "tags": []
          },
          "execution_count": 12
        }
      ]
    },
    {
      "cell_type": "code",
      "metadata": {
        "colab": {
          "base_uri": "https://localhost:8080/",
          "height": 271
        },
        "id": "UbcRD-41INsz",
        "outputId": "72c2ecb8-b990-4411-dd19-0cd713f01f16"
      },
      "source": [
        "df['Married'].value_counts().plot.bar()\n",
        "plt.show()"
      ],
      "execution_count": null,
      "outputs": [
        {
          "output_type": "display_data",
          "data": {
            "image/png": "[encoded data removed]",
            "text/plain": [
              "<Figure size 432x288 with 1 Axes>"
            ]
          },
          "metadata": {
            "tags": [],
            "needs_background": "light"
          }
        }
      ]
    },
    {
      "cell_type": "code",
      "metadata": {
        "colab": {
          "base_uri": "https://localhost:8080/"
        },
        "id": "76qQd0ZCIi66",
        "outputId": "3aaafaf6-13a2-4eff-e9b8-9c269ca514d1"
      },
      "source": [
        "df['TotalDependents'].describe()"
      ],
      "execution_count": null,
      "outputs": [
        {
          "output_type": "execute_result",
          "data": {
            "text/plain": [
              "count     6338\n",
              "unique       2\n",
              "top         No\n",
              "freq      4432\n",
              "Name: TotalDependents, dtype: object"
            ]
          },
          "metadata": {
            "tags": []
          },
          "execution_count": 14
        }
      ]
    },
    {
      "cell_type": "code",
      "metadata": {
        "colab": {
          "base_uri": "https://localhost:8080/",
          "height": 271
        },
        "id": "lvbJfs6mIrJK",
        "outputId": "9b9e922c-f315-44f2-a844-346c07f22126"
      },
      "source": [
        "df['TotalDependents'].value_counts().plot.bar()\n",
        "plt.show()"
      ],
      "execution_count": null,
      "outputs": [
        {
          "output_type": "display_data",
          "data": {
            "image/png": "[encoded data removed]",
            "text/plain": [
              "<Figure size 432x288 with 1 Axes>"
            ]
          },
          "metadata": {
            "tags": [],
            "needs_background": "light"
          }
        }
      ]
    },
    {
      "cell_type": "code",
      "metadata": {
        "colab": {
          "base_uri": "https://localhost:8080/"
        },
        "id": "GFzSTLz7Ivtx",
        "outputId": "11ad8d8c-abf9-42c5-d884-10ebbf5d334b"
      },
      "source": [
        "df['ServiceSpan'].describe()"
      ],
      "execution_count": null,
      "outputs": [
        {
          "output_type": "execute_result",
          "data": {
            "text/plain": [
              "count    6338.000000\n",
              "mean       31.946040\n",
              "std        24.559659\n",
              "min        -2.000000\n",
              "25%         8.000000\n",
              "50%        29.000000\n",
              "75%        55.000000\n",
              "max        73.000000\n",
              "Name: ServiceSpan, dtype: float64"
            ]
          },
          "metadata": {
            "tags": []
          },
          "execution_count": 16
        }
      ]
    },
    {
      "cell_type": "code",
      "metadata": {
        "colab": {
          "base_uri": "https://localhost:8080/",
          "height": 333
        },
        "id": "FFPV4ia3I8w0",
        "outputId": "2ec80c07-81d7-47a5-8a2f-e8548150afc4"
      },
      "source": [
        "sns.distplot(df['ServiceSpan'])\n",
        "plt.show()"
      ],
      "execution_count": null,
      "outputs": [
        {
          "output_type": "stream",
          "text": [
            "/usr/local/lib/python3.7/dist-packages/seaborn/distributions.py:2557: FutureWarning: `distplot` is a deprecated function and will be removed in a future version. Please adapt your code to use either `displot` (a figure-level function with similar flexibility) or `histplot` (an axes-level function for histograms).\n",
            "  warnings.warn(msg, FutureWarning)\n"
          ],
          "name": "stderr"
        },
        {
          "output_type": "display_data",
          "data": {
            "image/png": "[encoded data removed]",
            "text/plain": [
              "<Figure size 432x288 with 1 Axes>"
            ]
          },
          "metadata": {
            "tags": [],
            "needs_background": "light"
          }
        }
      ]
    },
    {
      "cell_type": "code",
      "metadata": {
        "colab": {
          "base_uri": "https://localhost:8080/"
        },
        "id": "yEmAs2raJChY",
        "outputId": "9f2292f8-9256-4f8d-ce93-1fc035fa813f"
      },
      "source": [
        "df['MobileService'].describe()"
      ],
      "execution_count": null,
      "outputs": [
        {
          "output_type": "execute_result",
          "data": {
            "text/plain": [
              "count     6338\n",
              "unique       2\n",
              "top        Yes\n",
              "freq      5772\n",
              "Name: MobileService, dtype: object"
            ]
          },
          "metadata": {
            "tags": []
          },
          "execution_count": 18
        }
      ]
    },
    {
      "cell_type": "code",
      "metadata": {
        "colab": {
          "base_uri": "https://localhost:8080/",
          "height": 273
        },
        "id": "tIq63ZGhJgDn",
        "outputId": "ccb5a638-3296-4f56-e043-2cde47be5add"
      },
      "source": [
        "df['MobileService'].value_counts().plot.bar()#highly Imbalanced\n",
        "plt.show()"
      ],
      "execution_count": null,
      "outputs": [
        {
          "output_type": "display_data",
          "data": {
            "image/png": "[encoded data removed]",
            "text/plain": [
              "<Figure size 432x288 with 1 Axes>"
            ]
          },
          "metadata": {
            "tags": [],
            "needs_background": "light"
          }
        }
      ]
    },
    {
      "cell_type": "code",
      "metadata": {
        "colab": {
          "base_uri": "https://localhost:8080/"
        },
        "id": "SnGPd9qEJmla",
        "outputId": "dd053e68-2da1-4f79-9878-285b1f526948"
      },
      "source": [
        "df['4GService'].describe()"
      ],
      "execution_count": null,
      "outputs": [
        {
          "output_type": "execute_result",
          "data": {
            "text/plain": [
              "count               6338\n",
              "unique                 3\n",
              "top       Wifi Broadband\n",
              "freq                2794\n",
              "Name: 4GService, dtype: object"
            ]
          },
          "metadata": {
            "tags": []
          },
          "execution_count": 20
        }
      ]
    },
    {
      "cell_type": "code",
      "metadata": {
        "colab": {
          "base_uri": "https://localhost:8080/",
          "height": 354
        },
        "id": "LBgOXLw9J0T4",
        "outputId": "c10ce8e2-3010-402d-b509-f8866ca83abb"
      },
      "source": [
        "df['4GService'].value_counts().plot.bar()\n",
        "plt.show()"
      ],
      "execution_count": null,
      "outputs": [
        {
          "output_type": "display_data",
          "data": {
            "image/png": "[encoded data removed]",
            "text/plain": [
              "<Figure size 432x288 with 1 Axes>"
            ]
          },
          "metadata": {
            "tags": [],
            "needs_background": "light"
          }
        }
      ]
    },
    {
      "cell_type": "code",
      "metadata": {
        "colab": {
          "base_uri": "https://localhost:8080/"
        },
        "id": "7TimhaezJ6ll",
        "outputId": "36b905d7-394e-4127-c57c-b86285136660"
      },
      "source": [
        "df['CyberProtection'].describe()"
      ],
      "execution_count": null,
      "outputs": [
        {
          "output_type": "execute_result",
          "data": {
            "text/plain": [
              "count     6338\n",
              "unique       2\n",
              "top         No\n",
              "freq      4508\n",
              "Name: CyberProtection, dtype: object"
            ]
          },
          "metadata": {
            "tags": []
          },
          "execution_count": 22
        }
      ]
    },
    {
      "cell_type": "code",
      "metadata": {
        "colab": {
          "base_uri": "https://localhost:8080/",
          "height": 271
        },
        "id": "0WNakrcjKEx-",
        "outputId": "c9b4fa7f-3d4a-45ff-e56f-7c46664cba3f"
      },
      "source": [
        "df['CyberProtection'].value_counts().plot.bar()\n",
        "plt.show()"
      ],
      "execution_count": null,
      "outputs": [
        {
          "output_type": "display_data",
          "data": {
            "image/png": "[encoded data removed]",
            "text/plain": [
              "<Figure size 432x288 with 1 Axes>"
            ]
          },
          "metadata": {
            "tags": [],
            "needs_background": "light"
          }
        }
      ]
    },
    {
      "cell_type": "code",
      "metadata": {
        "colab": {
          "base_uri": "https://localhost:8080/"
        },
        "id": "LZ6EyAWmKLKA",
        "outputId": "30759ef4-5a9e-403e-e9ab-eeebb34f24b6"
      },
      "source": [
        "df['HardwareSupport'].describe()"
      ],
      "execution_count": null,
      "outputs": [
        {
          "output_type": "execute_result",
          "data": {
            "text/plain": [
              "count     6338\n",
              "unique       2\n",
              "top         No\n",
              "freq      4185\n",
              "Name: HardwareSupport, dtype: object"
            ]
          },
          "metadata": {
            "tags": []
          },
          "execution_count": 24
        }
      ]
    },
    {
      "cell_type": "code",
      "metadata": {
        "colab": {
          "base_uri": "https://localhost:8080/",
          "height": 271
        },
        "id": "OewfV76gKTqg",
        "outputId": "ac2a8136-78f0-4809-9f49-5d882114d75c"
      },
      "source": [
        "df['HardwareSupport'].value_counts().plot.bar()\n",
        "plt.show()"
      ],
      "execution_count": null,
      "outputs": [
        {
          "output_type": "display_data",
          "data": {
            "image/png": "[encoded data removed]",
            "text/plain": [
              "<Figure size 432x288 with 1 Axes>"
            ]
          },
          "metadata": {
            "tags": [],
            "needs_background": "light"
          }
        }
      ]
    },
    {
      "cell_type": "code",
      "metadata": {
        "colab": {
          "base_uri": "https://localhost:8080/"
        },
        "id": "9jpg_v28KZgi",
        "outputId": "b5f20de8-6c59-4c97-bb00-b3b6ccdba6c5"
      },
      "source": [
        "df['TechnicalAssistance'].describe()"
      ],
      "execution_count": null,
      "outputs": [
        {
          "output_type": "execute_result",
          "data": {
            "text/plain": [
              "count     6338\n",
              "unique       2\n",
              "top         No\n",
              "freq      4508\n",
              "Name: TechnicalAssistance, dtype: object"
            ]
          },
          "metadata": {
            "tags": []
          },
          "execution_count": 26
        }
      ]
    },
    {
      "cell_type": "code",
      "metadata": {
        "colab": {
          "base_uri": "https://localhost:8080/",
          "height": 271
        },
        "id": "NBKj7vG6Km7Z",
        "outputId": "4d1e7fd1-b5c1-4bcc-954e-b2dea712f45a"
      },
      "source": [
        "df['TechnicalAssistance'].value_counts().plot.bar()\n",
        "plt.show()"
      ],
      "execution_count": null,
      "outputs": [
        {
          "output_type": "display_data",
          "data": {
            "image/png": "[encoded data removed]",
            "text/plain": [
              "<Figure size 432x288 with 1 Axes>"
            ]
          },
          "metadata": {
            "tags": [],
            "needs_background": "light"
          }
        }
      ]
    },
    {
      "cell_type": "code",
      "metadata": {
        "colab": {
          "base_uri": "https://localhost:8080/"
        },
        "id": "zGWf-dBSKuTA",
        "outputId": "673ac617-1b84-4e1e-9f20-4546320df8a2"
      },
      "source": [
        "df['FilmSubscription'].describe()"
      ],
      "execution_count": null,
      "outputs": [
        {
          "output_type": "execute_result",
          "data": {
            "text/plain": [
              "count     6338\n",
              "unique       2\n",
              "top         No\n",
              "freq      3908\n",
              "Name: FilmSubscription, dtype: object"
            ]
          },
          "metadata": {
            "tags": []
          },
          "execution_count": 28
        }
      ]
    },
    {
      "cell_type": "code",
      "metadata": {
        "colab": {
          "base_uri": "https://localhost:8080/",
          "height": 271
        },
        "id": "NawiOTmjK18G",
        "outputId": "e0dae786-31be-40d2-d2ea-9842617a7fe9"
      },
      "source": [
        "df['FilmSubscription'].value_counts().plot.bar()\n",
        "plt.show()"
      ],
      "execution_count": null,
      "outputs": [
        {
          "output_type": "display_data",
          "data": {
            "image/png": "[encoded data removed]",
            "text/plain": [
              "<Figure size 432x288 with 1 Axes>"
            ]
          },
          "metadata": {
            "tags": [],
            "needs_background": "light"
          }
        }
      ]
    },
    {
      "cell_type": "code",
      "metadata": {
        "colab": {
          "base_uri": "https://localhost:8080/"
        },
        "id": "RSYZILgqK7yn",
        "outputId": "5e8ee3e8-3b9a-4e29-f8f2-d122af67c038"
      },
      "source": [
        "df['SettlementProcess'].describe()"
      ],
      "execution_count": null,
      "outputs": [
        {
          "output_type": "execute_result",
          "data": {
            "text/plain": [
              "count           6338\n",
              "unique             4\n",
              "top       Electronic\n",
              "freq            2134\n",
              "Name: SettlementProcess, dtype: object"
            ]
          },
          "metadata": {
            "tags": []
          },
          "execution_count": 30
        }
      ]
    },
    {
      "cell_type": "code",
      "metadata": {
        "colab": {
          "base_uri": "https://localhost:8080/",
          "height": 305
        },
        "id": "1lgioPbQLEf-",
        "outputId": "d2531c9b-af5f-4615-9a5d-12d10abb979a"
      },
      "source": [
        "df['SettlementProcess'].value_counts().plot.bar()\n",
        "plt.show()"
      ],
      "execution_count": null,
      "outputs": [
        {
          "output_type": "display_data",
          "data": {
            "image/png": "[encoded data removed]",
            "text/plain": [
              "<Figure size 432x288 with 1 Axes>"
            ]
          },
          "metadata": {
            "tags": [],
            "needs_background": "light"
          }
        }
      ]
    },
    {
      "cell_type": "code",
      "metadata": {
        "colab": {
          "base_uri": "https://localhost:8080/"
        },
        "id": "dfdezPzCLMjX",
        "outputId": "3dca88ba-59bb-4ef1-ed0b-ea77a9fba1d6"
      },
      "source": [
        "df['QuarterlyPayment'].describe()"
      ],
      "execution_count": null,
      "outputs": [
        {
          "output_type": "execute_result",
          "data": {
            "text/plain": [
              "count    6338.000000\n",
              "mean       64.814490\n",
              "std        30.191091\n",
              "min        16.504109\n",
              "25%        35.645524\n",
              "50%        70.534085\n",
              "75%        90.058498\n",
              "max       120.159190\n",
              "Name: QuarterlyPayment, dtype: float64"
            ]
          },
          "metadata": {
            "tags": []
          },
          "execution_count": 32
        }
      ]
    },
    {
      "cell_type": "code",
      "metadata": {
        "colab": {
          "base_uri": "https://localhost:8080/",
          "height": 336
        },
        "id": "s3TF1zKfLlCK",
        "outputId": "6280cba0-fabc-45c0-f048-1fcc2f05de73"
      },
      "source": [
        "sns.distplot(df['QuarterlyPayment'])\n",
        "plt.show()"
      ],
      "execution_count": null,
      "outputs": [
        {
          "output_type": "stream",
          "text": [
            "/usr/local/lib/python3.7/dist-packages/seaborn/distributions.py:2557: FutureWarning: `distplot` is a deprecated function and will be removed in a future version. Please adapt your code to use either `displot` (a figure-level function with similar flexibility) or `histplot` (an axes-level function for histograms).\n",
            "  warnings.warn(msg, FutureWarning)\n"
          ],
          "name": "stderr"
        },
        {
          "output_type": "display_data",
          "data": {
            "image/png": "[encoded data removed]",
            "text/plain": [
              "<Figure size 432x288 with 1 Axes>"
            ]
          },
          "metadata": {
            "tags": [],
            "needs_background": "light"
          }
        }
      ]
    },
    {
      "cell_type": "code",
      "metadata": {
        "colab": {
          "base_uri": "https://localhost:8080/"
        },
        "id": "WG0xYOYfLx1_",
        "outputId": "9f1aa894-68fe-4659-ebf8-20aead344235"
      },
      "source": [
        "df['GrandPayment'].describe()"
      ],
      "execution_count": null,
      "outputs": [
        {
          "output_type": "execute_result",
          "data": {
            "text/plain": [
              "count    6328.000000\n",
              "mean     2290.544207\n",
              "std      2265.181098\n",
              "min        16.297961\n",
              "25%       401.849530\n",
              "50%      1407.589119\n",
              "75%      3823.855846\n",
              "max      8685.848657\n",
              "Name: GrandPayment, dtype: float64"
            ]
          },
          "metadata": {
            "tags": []
          },
          "execution_count": 34
        }
      ]
    },
    {
      "cell_type": "code",
      "metadata": {
        "colab": {
          "base_uri": "https://localhost:8080/",
          "height": 334
        },
        "id": "jNnSpnCPL8Iv",
        "outputId": "2a6d0da2-03e6-457d-c6ba-a516ab8e5d0b"
      },
      "source": [
        "sns.distplot(df['GrandPayment'])\n",
        "plt.show()"
      ],
      "execution_count": null,
      "outputs": [
        {
          "output_type": "stream",
          "text": [
            "/usr/local/lib/python3.7/dist-packages/seaborn/distributions.py:2557: FutureWarning: `distplot` is a deprecated function and will be removed in a future version. Please adapt your code to use either `displot` (a figure-level function with similar flexibility) or `histplot` (an axes-level function for histograms).\n",
            "  warnings.warn(msg, FutureWarning)\n"
          ],
          "name": "stderr"
        },
        {
          "output_type": "display_data",
          "data": {
            "image/png": "[encoded data removed]",
            "text/plain": [
              "<Figure size 432x288 with 1 Axes>"
            ]
          },
          "metadata": {
            "tags": [],
            "needs_background": "light"
          }
        }
      ]
    },
    {
      "cell_type": "code",
      "metadata": {
        "id": "Lm57esdiMDEv"
      },
      "source": [
        "num_var = df.dtypes[df.dtypes == 'float64'].index \n",
        "num_var = num_var.append(df.dtypes[df.dtypes == 'int64'].index)"
      ],
      "execution_count": null,
      "outputs": []
    },
    {
      "cell_type": "code",
      "metadata": {
        "id": "xgrvqyj0OJh3"
      },
      "source": [
        "cat_var = df.dtypes[df.dtypes == 'object'].index"
      ],
      "execution_count": null,
      "outputs": []
    },
    {
      "cell_type": "code",
      "metadata": {
        "id": "QQ_qIfHeOR62"
      },
      "source": [
        "cat_var = cat_var.drop(['CustomerAttrition','ID'])"
      ],
      "execution_count": null,
      "outputs": []
    },
    {
      "cell_type": "code",
      "metadata": {
        "colab": {
          "base_uri": "https://localhost:8080/"
        },
        "id": "ZJNr-V3zRV1Y",
        "outputId": "424f1804-b07f-4c95-8892-d6397c457d31"
      },
      "source": [
        "cat_var"
      ],
      "execution_count": null,
      "outputs": [
        {
          "output_type": "execute_result",
          "data": {
            "text/plain": [
              "Index(['sex', 'Aged', 'Married', 'TotalDependents', 'MobileService',\n",
              "       '4GService', 'CyberProtection', 'HardwareSupport',\n",
              "       'TechnicalAssistance', 'FilmSubscription', 'SettlementProcess'],\n",
              "      dtype='object')"
            ]
          },
          "metadata": {
            "tags": []
          },
          "execution_count": 39
        }
      ]
    },
    {
      "cell_type": "code",
      "metadata": {
        "colab": {
          "base_uri": "https://localhost:8080/"
        },
        "id": "f04KF7dLOTiB",
        "outputId": "361d08dd-a1e6-4fd5-8644-55be00bcdea4"
      },
      "source": [
        "for i in cat_var:\n",
        "    tab_var = pd.crosstab(df[i],df['CustomerAttrition'])\n",
        "    tab_var.div(tab_var.sum(1).astype(float),axis = 0).plot(kind = 'bar',stacked = True,figsize = (4,4))\n",
        "    plt.title(i)\n",
        "    plt.show()  "
      ],
      "execution_count": null,
      "outputs": [
        {
          "output_type": "display_data",
          "data": {
            "image/png": "[encoded data removed]",
            "text/plain": [
              "<Figure size 288x288 with 1 Axes>"
            ]
          },
          "metadata": {
            "tags": [],
            "needs_background": "light"
          }
        },
        {
          "output_type": "display_data",
          "data": {
            "image/png": "[encoded data removed]",
            "text/plain": [
              "<Figure size 288x288 with 1 Axes>"
            ]
          },
          "metadata": {
            "tags": [],
            "needs_background": "light"
          }
        },
        {
          "output_type": "display_data",
          "data": {
            "image/png": "[encoded data removed]",
            "text/plain": [
              "<Figure size 288x288 with 1 Axes>"
            ]
          },
          "metadata": {
            "tags": [],
            "needs_background": "light"
          }
        },
        {
          "output_type": "display_data",
          "data": {
            "image/png": "[encoded data removed]",
            "text/plain": [
              "<Figure size 288x288 with 1 Axes>"
            ]
          },
          "metadata": {
            "tags": [],
            "needs_background": "light"
          }
        },
        {
          "output_type": "display_data",
          "data": {
            "image/png": "[encoded data removed]",
            "text/plain": [
              "<Figure size 288x288 with 1 Axes>"
            ]
          },
          "metadata": {
            "tags": [],
            "needs_background": "light"
          }
        },
        {
          "output_type": "display_data",
          "data": {
            "image/png": "[encoded data removed]",
            "text/plain": [
              "<Figure size 288x288 with 1 Axes>"
            ]
          },
          "metadata": {
            "tags": [],
            "needs_background": "light"
          }
        },
        {
          "output_type": "display_data",
          "data": {
            "image/png": "[encoded data removed]",
            "text/plain": [
              "<Figure size 288x288 with 1 Axes>"
            ]
          },
          "metadata": {
            "tags": [],
            "needs_background": "light"
          }
        },
        {
          "output_type": "display_data",
          "data": {
            "image/png": "[encoded data removed]",
            "text/plain": [
              "<Figure size 288x288 with 1 Axes>"
            ]
          },
          "metadata": {
            "tags": [],
            "needs_background": "light"
          }
        },
        {
          "output_type": "display_data",
          "data": {
            "image/png": "[encoded data removed]",
            "text/plain": [
              "<Figure size 288x288 with 1 Axes>"
            ]
          },
          "metadata": {
            "tags": [],
            "needs_background": "light"
          }
        },
        {
          "output_type": "display_data",
          "data": {
            "image/png": "[encoded data removed]",
            "text/plain": [
              "<Figure size 288x288 with 1 Axes>"
            ]
          },
          "metadata": {
            "tags": [],
            "needs_background": "light"
          }
        },
        {
          "output_type": "display_data",
          "data": {
            "image/png": "[encoded data removed]",
            "text/plain": [
              "<Figure size 288x288 with 1 Axes>"
            ]
          },
          "metadata": {
            "tags": [],
            "needs_background": "light"
          }
        }
      ]
    },
    {
      "cell_type": "code",
      "metadata": {
        "colab": {
          "base_uri": "https://localhost:8080/"
        },
        "id": "bl7b_XChPTjf",
        "outputId": "0f3be440-98a0-4e73-ea30-bda3308bdde9"
      },
      "source": [
        "for i in num_var:\n",
        "    sns.boxplot(y = df[i])\n",
        "    plt.title(i)\n",
        "    plt.show()"
      ],
      "execution_count": null,
      "outputs": [
        {
          "output_type": "display_data",
          "data": {
            "image/png": "[encoded data removed]",
            "text/plain": [
              "<Figure size 432x288 with 1 Axes>"
            ]
          },
          "metadata": {
            "tags": [],
            "needs_background": "light"
          }
        },
        {
          "output_type": "display_data",
          "data": {
            "image/png": "[encoded data removed]",
            "text/plain": [
              "<Figure size 432x288 with 1 Axes>"
            ]
          },
          "metadata": {
            "tags": [],
            "needs_background": "light"
          }
        },
        {
          "output_type": "display_data",
          "data": {
            "image/png": "[encoded data removed]",
            "text/plain": [
              "<Figure size 432x288 with 1 Axes>"
            ]
          },
          "metadata": {
            "tags": [],
            "needs_background": "light"
          }
        }
      ]
    },
    {
      "cell_type": "code",
      "metadata": {
        "id": "_7JFoHKBUgBA"
      },
      "source": [
        "df['GrandPayment'] = df['GrandPayment'].fillna(df['GrandPayment'].median())"
      ],
      "execution_count": null,
      "outputs": []
    },
    {
      "cell_type": "code",
      "metadata": {
        "colab": {
          "base_uri": "https://localhost:8080/"
        },
        "id": "_SzNYGAxXygb",
        "outputId": "62a9d45f-87a8-4b73-ca3c-308465cd3c07"
      },
      "source": [
        "df.info()"
      ],
      "execution_count": null,
      "outputs": [
        {
          "output_type": "stream",
          "text": [
            "<class 'pandas.core.frame.DataFrame'>\n",
            "RangeIndex: 6338 entries, 0 to 6337\n",
            "Data columns (total 16 columns):\n",
            " #   Column               Non-Null Count  Dtype  \n",
            "---  ------               --------------  -----  \n",
            " 0   ID                   6338 non-null   object \n",
            " 1   sex                  6338 non-null   object \n",
            " 2   Aged                 6338 non-null   object \n",
            " 3   Married              6338 non-null   object \n",
            " 4   TotalDependents      6338 non-null   object \n",
            " 5   ServiceSpan          6338 non-null   int64  \n",
            " 6   MobileService        6338 non-null   object \n",
            " 7   4GService            6338 non-null   object \n",
            " 8   CyberProtection      6338 non-null   object \n",
            " 9   HardwareSupport      6338 non-null   object \n",
            " 10  TechnicalAssistance  6338 non-null   object \n",
            " 11  FilmSubscription     6338 non-null   object \n",
            " 12  SettlementProcess    6338 non-null   object \n",
            " 13  QuarterlyPayment     6338 non-null   float64\n",
            " 14  GrandPayment         6338 non-null   float64\n",
            " 15  CustomerAttrition    6338 non-null   object \n",
            "dtypes: float64(2), int64(1), object(13)\n",
            "memory usage: 792.4+ KB\n"
          ],
          "name": "stdout"
        }
      ]
    },
    {
      "cell_type": "markdown",
      "metadata": {
        "id": "mYM4geoNaX7i"
      },
      "source": [
        "# Encoding Categorical Variables"
      ]
    },
    {
      "cell_type": "code",
      "metadata": {
        "id": "BCaaHiUwaQGX"
      },
      "source": [
        "df = df.drop('ID',axis = 1)"
      ],
      "execution_count": null,
      "outputs": []
    },
    {
      "cell_type": "code",
      "metadata": {
        "id": "pLplQjvwd_vS"
      },
      "source": [
        "df = pd.get_dummies(df)"
      ],
      "execution_count": null,
      "outputs": []
    },
    {
      "cell_type": "code",
      "metadata": {
        "colab": {
          "base_uri": "https://localhost:8080/"
        },
        "id": "uJmSjJzoeJ9a",
        "outputId": "b9c08495-af55-4e3c-e45e-ee45754c55b2"
      },
      "source": [
        "df.columns"
      ],
      "execution_count": null,
      "outputs": [
        {
          "output_type": "execute_result",
          "data": {
            "text/plain": [
              "Index(['ServiceSpan', 'QuarterlyPayment', 'GrandPayment', 'sex_Female',\n",
              "       'sex_Male', 'Aged_No', 'Aged_Yes', 'Married_No', 'Married_Yes',\n",
              "       'TotalDependents_No', 'TotalDependents_Yes', 'MobileService_No',\n",
              "       'MobileService_Yes', '4GService_No', '4GService_Satellite Broadband',\n",
              "       '4GService_Wifi Broadband', 'CyberProtection_No', 'CyberProtection_Yes',\n",
              "       'HardwareSupport_No', 'HardwareSupport_Yes', 'TechnicalAssistance_No',\n",
              "       'TechnicalAssistance_Yes', 'FilmSubscription_No',\n",
              "       'FilmSubscription_Yes', 'SettlementProcess_Bank',\n",
              "       'SettlementProcess_Card', 'SettlementProcess_Check',\n",
              "       'SettlementProcess_Electronic', 'CustomerAttrition_No',\n",
              "       'CustomerAttrition_Yes'],\n",
              "      dtype='object')"
            ]
          },
          "metadata": {
            "tags": []
          },
          "execution_count": 46
        }
      ]
    },
    {
      "cell_type": "code",
      "metadata": {
        "colab": {
          "base_uri": "https://localhost:8080/"
        },
        "id": "FWXRgPEXfa0I",
        "outputId": "3285a3ef-fd46-477a-af32-0f3ed7d2720a"
      },
      "source": [
        "df.shape"
      ],
      "execution_count": null,
      "outputs": [
        {
          "output_type": "execute_result",
          "data": {
            "text/plain": [
              "(6338, 30)"
            ]
          },
          "metadata": {
            "tags": []
          },
          "execution_count": 47
        }
      ]
    },
    {
      "cell_type": "code",
      "metadata": {
        "colab": {
          "base_uri": "https://localhost:8080/"
        },
        "id": "ZB1pzfIzfv-n",
        "outputId": "8c65b37c-2124-4532-bf4c-a5231bfc4dfa"
      },
      "source": [
        "df"
      ],
      "execution_count": null,
      "outputs": [
        {
          "output_type": "execute_result",
          "data": {
            "text/html": [
              "<div>\n",
              "<style scoped>\n",
              "    .dataframe tbody tr th:only-of-type {\n",
              "        vertical-align: middle;\n",
              "    }\n",
              "\n",
              "    .dataframe tbody tr th {\n",
              "        vertical-align: top;\n",
              "    }\n",
              "\n",
              "    .dataframe thead th {\n",
              "        text-align: right;\n",
              "    }\n",
              "</style>\n",
              "<table border=\"1\" class=\"dataframe\">\n",
              "  <thead>\n",
              "    <tr style=\"text-align: right;\">\n",
              "      <th></th>\n",
              "      <th>ServiceSpan</th>\n",
              "      <th>QuarterlyPayment</th>\n",
              "      <th>GrandPayment</th>\n",
              "      <th>sex_Female</th>\n",
              "      <th>sex_Male</th>\n",
              "      <th>Aged_No</th>\n",
              "      <th>Aged_Yes</th>\n",
              "      <th>Married_No</th>\n",
              "      <th>Married_Yes</th>\n",
              "      <th>TotalDependents_No</th>\n",
              "      <th>TotalDependents_Yes</th>\n",
              "      <th>MobileService_No</th>\n",
              "      <th>MobileService_Yes</th>\n",
              "      <th>4GService_No</th>\n",
              "      <th>4GService_Satellite Broadband</th>\n",
              "      <th>4GService_Wifi Broadband</th>\n",
              "      <th>CyberProtection_No</th>\n",
              "      <th>CyberProtection_Yes</th>\n",
              "      <th>HardwareSupport_No</th>\n",
              "      <th>HardwareSupport_Yes</th>\n",
              "      <th>TechnicalAssistance_No</th>\n",
              "      <th>TechnicalAssistance_Yes</th>\n",
              "      <th>FilmSubscription_No</th>\n",
              "      <th>FilmSubscription_Yes</th>\n",
              "      <th>SettlementProcess_Bank</th>\n",
              "      <th>SettlementProcess_Card</th>\n",
              "      <th>SettlementProcess_Check</th>\n",
              "      <th>SettlementProcess_Electronic</th>\n",
              "      <th>CustomerAttrition_No</th>\n",
              "      <th>CustomerAttrition_Yes</th>\n",
              "    </tr>\n",
              "  </thead>\n",
              "  <tbody>\n",
              "    <tr>\n",
              "      <th>0</th>\n",
              "      <td>48</td>\n",
              "      <td>96.259802</td>\n",
              "      <td>4628.129119</td>\n",
              "      <td>1</td>\n",
              "      <td>0</td>\n",
              "      <td>1</td>\n",
              "      <td>0</td>\n",
              "      <td>1</td>\n",
              "      <td>0</td>\n",
              "      <td>0</td>\n",
              "      <td>1</td>\n",
              "      <td>0</td>\n",
              "      <td>1</td>\n",
              "      <td>0</td>\n",
              "      <td>0</td>\n",
              "      <td>1</td>\n",
              "      <td>1</td>\n",
              "      <td>0</td>\n",
              "      <td>0</td>\n",
              "      <td>1</td>\n",
              "      <td>0</td>\n",
              "      <td>1</td>\n",
              "      <td>1</td>\n",
              "      <td>0</td>\n",
              "      <td>0</td>\n",
              "      <td>0</td>\n",
              "      <td>1</td>\n",
              "      <td>0</td>\n",
              "      <td>0</td>\n",
              "      <td>1</td>\n",
              "    </tr>\n",
              "    <tr>\n",
              "      <th>1</th>\n",
              "      <td>45</td>\n",
              "      <td>18.876470</td>\n",
              "      <td>922.085998</td>\n",
              "      <td>0</td>\n",
              "      <td>1</td>\n",
              "      <td>1</td>\n",
              "      <td>0</td>\n",
              "      <td>0</td>\n",
              "      <td>1</td>\n",
              "      <td>1</td>\n",
              "      <td>0</td>\n",
              "      <td>0</td>\n",
              "      <td>1</td>\n",
              "      <td>0</td>\n",
              "      <td>0</td>\n",
              "      <td>1</td>\n",
              "      <td>1</td>\n",
              "      <td>0</td>\n",
              "      <td>1</td>\n",
              "      <td>0</td>\n",
              "      <td>1</td>\n",
              "      <td>0</td>\n",
              "      <td>0</td>\n",
              "      <td>1</td>\n",
              "      <td>1</td>\n",
              "      <td>0</td>\n",
              "      <td>0</td>\n",
              "      <td>0</td>\n",
              "      <td>1</td>\n",
              "      <td>0</td>\n",
              "    </tr>\n",
              "    <tr>\n",
              "      <th>2</th>\n",
              "      <td>59</td>\n",
              "      <td>106.016057</td>\n",
              "      <td>6205.891129</td>\n",
              "      <td>0</td>\n",
              "      <td>1</td>\n",
              "      <td>0</td>\n",
              "      <td>1</td>\n",
              "      <td>0</td>\n",
              "      <td>1</td>\n",
              "      <td>1</td>\n",
              "      <td>0</td>\n",
              "      <td>0</td>\n",
              "      <td>1</td>\n",
              "      <td>0</td>\n",
              "      <td>0</td>\n",
              "      <td>1</td>\n",
              "      <td>0</td>\n",
              "      <td>1</td>\n",
              "      <td>1</td>\n",
              "      <td>0</td>\n",
              "      <td>0</td>\n",
              "      <td>1</td>\n",
              "      <td>1</td>\n",
              "      <td>0</td>\n",
              "      <td>0</td>\n",
              "      <td>1</td>\n",
              "      <td>0</td>\n",
              "      <td>0</td>\n",
              "      <td>0</td>\n",
              "      <td>1</td>\n",
              "    </tr>\n",
              "    <tr>\n",
              "      <th>3</th>\n",
              "      <td>14</td>\n",
              "      <td>80.108839</td>\n",
              "      <td>1248.655391</td>\n",
              "      <td>0</td>\n",
              "      <td>1</td>\n",
              "      <td>1</td>\n",
              "      <td>0</td>\n",
              "      <td>1</td>\n",
              "      <td>0</td>\n",
              "      <td>1</td>\n",
              "      <td>0</td>\n",
              "      <td>0</td>\n",
              "      <td>1</td>\n",
              "      <td>0</td>\n",
              "      <td>0</td>\n",
              "      <td>1</td>\n",
              "      <td>1</td>\n",
              "      <td>0</td>\n",
              "      <td>1</td>\n",
              "      <td>0</td>\n",
              "      <td>1</td>\n",
              "      <td>0</td>\n",
              "      <td>1</td>\n",
              "      <td>0</td>\n",
              "      <td>0</td>\n",
              "      <td>0</td>\n",
              "      <td>1</td>\n",
              "      <td>0</td>\n",
              "      <td>1</td>\n",
              "      <td>0</td>\n",
              "    </tr>\n",
              "    <tr>\n",
              "      <th>4</th>\n",
              "      <td>25</td>\n",
              "      <td>51.529773</td>\n",
              "      <td>1285.321277</td>\n",
              "      <td>1</td>\n",
              "      <td>0</td>\n",
              "      <td>1</td>\n",
              "      <td>0</td>\n",
              "      <td>0</td>\n",
              "      <td>1</td>\n",
              "      <td>0</td>\n",
              "      <td>1</td>\n",
              "      <td>0</td>\n",
              "      <td>1</td>\n",
              "      <td>0</td>\n",
              "      <td>0</td>\n",
              "      <td>1</td>\n",
              "      <td>1</td>\n",
              "      <td>0</td>\n",
              "      <td>0</td>\n",
              "      <td>1</td>\n",
              "      <td>1</td>\n",
              "      <td>0</td>\n",
              "      <td>0</td>\n",
              "      <td>1</td>\n",
              "      <td>0</td>\n",
              "      <td>0</td>\n",
              "      <td>1</td>\n",
              "      <td>0</td>\n",
              "      <td>1</td>\n",
              "      <td>0</td>\n",
              "    </tr>\n",
              "    <tr>\n",
              "      <th>...</th>\n",
              "      <td>...</td>\n",
              "      <td>...</td>\n",
              "      <td>...</td>\n",
              "      <td>...</td>\n",
              "      <td>...</td>\n",
              "      <td>...</td>\n",
              "      <td>...</td>\n",
              "      <td>...</td>\n",
              "      <td>...</td>\n",
              "      <td>...</td>\n",
              "      <td>...</td>\n",
              "      <td>...</td>\n",
              "      <td>...</td>\n",
              "      <td>...</td>\n",
              "      <td>...</td>\n",
              "      <td>...</td>\n",
              "      <td>...</td>\n",
              "      <td>...</td>\n",
              "      <td>...</td>\n",
              "      <td>...</td>\n",
              "      <td>...</td>\n",
              "      <td>...</td>\n",
              "      <td>...</td>\n",
              "      <td>...</td>\n",
              "      <td>...</td>\n",
              "      <td>...</td>\n",
              "      <td>...</td>\n",
              "      <td>...</td>\n",
              "      <td>...</td>\n",
              "      <td>...</td>\n",
              "    </tr>\n",
              "    <tr>\n",
              "      <th>6333</th>\n",
              "      <td>3</td>\n",
              "      <td>100.391595</td>\n",
              "      <td>441.914530</td>\n",
              "      <td>1</td>\n",
              "      <td>0</td>\n",
              "      <td>0</td>\n",
              "      <td>1</td>\n",
              "      <td>1</td>\n",
              "      <td>0</td>\n",
              "      <td>1</td>\n",
              "      <td>0</td>\n",
              "      <td>0</td>\n",
              "      <td>1</td>\n",
              "      <td>0</td>\n",
              "      <td>0</td>\n",
              "      <td>1</td>\n",
              "      <td>1</td>\n",
              "      <td>0</td>\n",
              "      <td>0</td>\n",
              "      <td>1</td>\n",
              "      <td>1</td>\n",
              "      <td>0</td>\n",
              "      <td>0</td>\n",
              "      <td>1</td>\n",
              "      <td>0</td>\n",
              "      <td>1</td>\n",
              "      <td>0</td>\n",
              "      <td>0</td>\n",
              "      <td>0</td>\n",
              "      <td>1</td>\n",
              "    </tr>\n",
              "    <tr>\n",
              "      <th>6334</th>\n",
              "      <td>-1</td>\n",
              "      <td>44.782165</td>\n",
              "      <td>45.308180</td>\n",
              "      <td>1</td>\n",
              "      <td>0</td>\n",
              "      <td>0</td>\n",
              "      <td>1</td>\n",
              "      <td>1</td>\n",
              "      <td>0</td>\n",
              "      <td>1</td>\n",
              "      <td>0</td>\n",
              "      <td>0</td>\n",
              "      <td>1</td>\n",
              "      <td>0</td>\n",
              "      <td>1</td>\n",
              "      <td>0</td>\n",
              "      <td>1</td>\n",
              "      <td>0</td>\n",
              "      <td>1</td>\n",
              "      <td>0</td>\n",
              "      <td>1</td>\n",
              "      <td>0</td>\n",
              "      <td>0</td>\n",
              "      <td>1</td>\n",
              "      <td>1</td>\n",
              "      <td>0</td>\n",
              "      <td>0</td>\n",
              "      <td>0</td>\n",
              "      <td>1</td>\n",
              "      <td>0</td>\n",
              "    </tr>\n",
              "    <tr>\n",
              "      <th>6335</th>\n",
              "      <td>18</td>\n",
              "      <td>35.941713</td>\n",
              "      <td>552.181341</td>\n",
              "      <td>0</td>\n",
              "      <td>1</td>\n",
              "      <td>1</td>\n",
              "      <td>0</td>\n",
              "      <td>1</td>\n",
              "      <td>0</td>\n",
              "      <td>0</td>\n",
              "      <td>1</td>\n",
              "      <td>0</td>\n",
              "      <td>1</td>\n",
              "      <td>1</td>\n",
              "      <td>0</td>\n",
              "      <td>0</td>\n",
              "      <td>1</td>\n",
              "      <td>0</td>\n",
              "      <td>1</td>\n",
              "      <td>0</td>\n",
              "      <td>1</td>\n",
              "      <td>0</td>\n",
              "      <td>1</td>\n",
              "      <td>0</td>\n",
              "      <td>0</td>\n",
              "      <td>0</td>\n",
              "      <td>0</td>\n",
              "      <td>1</td>\n",
              "      <td>0</td>\n",
              "      <td>1</td>\n",
              "    </tr>\n",
              "    <tr>\n",
              "      <th>6336</th>\n",
              "      <td>46</td>\n",
              "      <td>94.762984</td>\n",
              "      <td>4563.812326</td>\n",
              "      <td>0</td>\n",
              "      <td>1</td>\n",
              "      <td>1</td>\n",
              "      <td>0</td>\n",
              "      <td>0</td>\n",
              "      <td>1</td>\n",
              "      <td>1</td>\n",
              "      <td>0</td>\n",
              "      <td>0</td>\n",
              "      <td>1</td>\n",
              "      <td>1</td>\n",
              "      <td>0</td>\n",
              "      <td>0</td>\n",
              "      <td>1</td>\n",
              "      <td>0</td>\n",
              "      <td>1</td>\n",
              "      <td>0</td>\n",
              "      <td>1</td>\n",
              "      <td>0</td>\n",
              "      <td>0</td>\n",
              "      <td>1</td>\n",
              "      <td>0</td>\n",
              "      <td>1</td>\n",
              "      <td>0</td>\n",
              "      <td>0</td>\n",
              "      <td>1</td>\n",
              "      <td>0</td>\n",
              "    </tr>\n",
              "    <tr>\n",
              "      <th>6337</th>\n",
              "      <td>60</td>\n",
              "      <td>94.337343</td>\n",
              "      <td>5756.542013</td>\n",
              "      <td>1</td>\n",
              "      <td>0</td>\n",
              "      <td>1</td>\n",
              "      <td>0</td>\n",
              "      <td>1</td>\n",
              "      <td>0</td>\n",
              "      <td>1</td>\n",
              "      <td>0</td>\n",
              "      <td>0</td>\n",
              "      <td>1</td>\n",
              "      <td>0</td>\n",
              "      <td>1</td>\n",
              "      <td>0</td>\n",
              "      <td>1</td>\n",
              "      <td>0</td>\n",
              "      <td>1</td>\n",
              "      <td>0</td>\n",
              "      <td>1</td>\n",
              "      <td>0</td>\n",
              "      <td>1</td>\n",
              "      <td>0</td>\n",
              "      <td>1</td>\n",
              "      <td>0</td>\n",
              "      <td>0</td>\n",
              "      <td>0</td>\n",
              "      <td>1</td>\n",
              "      <td>0</td>\n",
              "    </tr>\n",
              "  </tbody>\n",
              "</table>\n",
              "<p>6338 rows × 30 columns</p>\n",
              "</div>"
            ],
            "text/plain": [
              "      ServiceSpan  ...  CustomerAttrition_Yes\n",
              "0              48  ...                      1\n",
              "1              45  ...                      0\n",
              "2              59  ...                      1\n",
              "3              14  ...                      0\n",
              "4              25  ...                      0\n",
              "...           ...  ...                    ...\n",
              "6333            3  ...                      1\n",
              "6334           -1  ...                      0\n",
              "6335           18  ...                      1\n",
              "6336           46  ...                      0\n",
              "6337           60  ...                      0\n",
              "\n",
              "[6338 rows x 30 columns]"
            ]
          },
          "metadata": {
            "tags": []
          },
          "execution_count": 48
        }
      ]
    },
    {
      "cell_type": "code",
      "metadata": {
        "id": "yBQo2EvlePFO"
      },
      "source": [
        "df = df.drop(['sex_Female','Aged_No','Married_No','TotalDependents_No','MobileService_No','4GService_No','CyberProtection_No','HardwareSupport_No','TechnicalAssistance_No','FilmSubscription_No','SettlementProcess_Bank','CustomerAttrition_No'],axis = 1)"
      ],
      "execution_count": null,
      "outputs": []
    },
    {
      "cell_type": "code",
      "metadata": {
        "colab": {
          "base_uri": "https://localhost:8080/"
        },
        "id": "o4wAEYVvhh3P",
        "outputId": "6d84e7c8-a758-4dcb-97b5-985e4a32ede9"
      },
      "source": [
        "df.info()"
      ],
      "execution_count": null,
      "outputs": [
        {
          "output_type": "stream",
          "text": [
            "<class 'pandas.core.frame.DataFrame'>\n",
            "RangeIndex: 6338 entries, 0 to 6337\n",
            "Data columns (total 18 columns):\n",
            " #   Column                         Non-Null Count  Dtype  \n",
            "---  ------                         --------------  -----  \n",
            " 0   ServiceSpan                    6338 non-null   int64  \n",
            " 1   QuarterlyPayment               6338 non-null   float64\n",
            " 2   GrandPayment                   6338 non-null   float64\n",
            " 3   sex_Male                       6338 non-null   uint8  \n",
            " 4   Aged_Yes                       6338 non-null   uint8  \n",
            " 5   Married_Yes                    6338 non-null   uint8  \n",
            " 6   TotalDependents_Yes            6338 non-null   uint8  \n",
            " 7   MobileService_Yes              6338 non-null   uint8  \n",
            " 8   4GService_Satellite Broadband  6338 non-null   uint8  \n",
            " 9   4GService_Wifi Broadband       6338 non-null   uint8  \n",
            " 10  CyberProtection_Yes            6338 non-null   uint8  \n",
            " 11  HardwareSupport_Yes            6338 non-null   uint8  \n",
            " 12  TechnicalAssistance_Yes        6338 non-null   uint8  \n",
            " 13  FilmSubscription_Yes           6338 non-null   uint8  \n",
            " 14  SettlementProcess_Card         6338 non-null   uint8  \n",
            " 15  SettlementProcess_Check        6338 non-null   uint8  \n",
            " 16  SettlementProcess_Electronic   6338 non-null   uint8  \n",
            " 17  CustomerAttrition_Yes          6338 non-null   uint8  \n",
            "dtypes: float64(2), int64(1), uint8(15)\n",
            "memory usage: 241.5 KB\n"
          ],
          "name": "stdout"
        }
      ]
    },
    {
      "cell_type": "markdown",
      "metadata": {
        "id": "rU9_035NaxKS"
      },
      "source": [
        "# Test Set"
      ]
    },
    {
      "cell_type": "code",
      "metadata": {
        "colab": {
          "base_uri": "https://localhost:8080/",
          "height": 299
        },
        "id": "vElWB0Lhav_D",
        "outputId": "88806732-62f4-4b92-c723-ce095a5ce638"
      },
      "source": [
        "df_test = pd.read_csv('/content/test.csv')\n",
        "df_test_copy = df_test.copy()\n",
        "df_test.head()"
      ],
      "execution_count": null,
      "outputs": [
        {
          "output_type": "execute_result",
          "data": {
            "text/html": [
              "<div>\n",
              "<style scoped>\n",
              "    .dataframe tbody tr th:only-of-type {\n",
              "        vertical-align: middle;\n",
              "    }\n",
              "\n",
              "    .dataframe tbody tr th {\n",
              "        vertical-align: top;\n",
              "    }\n",
              "\n",
              "    .dataframe thead th {\n",
              "        text-align: right;\n",
              "    }\n",
              "</style>\n",
              "<table border=\"1\" class=\"dataframe\">\n",
              "  <thead>\n",
              "    <tr style=\"text-align: right;\">\n",
              "      <th></th>\n",
              "      <th>ID</th>\n",
              "      <th>sex</th>\n",
              "      <th>Aged</th>\n",
              "      <th>Married</th>\n",
              "      <th>TotalDependents</th>\n",
              "      <th>ServiceSpan</th>\n",
              "      <th>MobileService</th>\n",
              "      <th>4GService</th>\n",
              "      <th>CyberProtection</th>\n",
              "      <th>HardwareSupport</th>\n",
              "      <th>TechnicalAssistance</th>\n",
              "      <th>FilmSubscription</th>\n",
              "      <th>SettlementProcess</th>\n",
              "      <th>QuarterlyPayment</th>\n",
              "      <th>GrandPayment</th>\n",
              "    </tr>\n",
              "  </thead>\n",
              "  <tbody>\n",
              "    <tr>\n",
              "      <th>0</th>\n",
              "      <td>WMORTPCG3HTIPEFSGUFY</td>\n",
              "      <td>Male</td>\n",
              "      <td>No</td>\n",
              "      <td>No</td>\n",
              "      <td>No</td>\n",
              "      <td>8</td>\n",
              "      <td>Yes</td>\n",
              "      <td>Wifi Broadband</td>\n",
              "      <td>No</td>\n",
              "      <td>No</td>\n",
              "      <td>No</td>\n",
              "      <td>Yes</td>\n",
              "      <td>Check</td>\n",
              "      <td>21.299937</td>\n",
              "      <td>151.092519</td>\n",
              "    </tr>\n",
              "    <tr>\n",
              "      <th>1</th>\n",
              "      <td>GBLPEA16C3KGBO57KEFO</td>\n",
              "      <td>Female</td>\n",
              "      <td>No</td>\n",
              "      <td>No</td>\n",
              "      <td>No</td>\n",
              "      <td>26</td>\n",
              "      <td>Yes</td>\n",
              "      <td>Satellite Broadband</td>\n",
              "      <td>No</td>\n",
              "      <td>Yes</td>\n",
              "      <td>No</td>\n",
              "      <td>Yes</td>\n",
              "      <td>Check</td>\n",
              "      <td>56.609623</td>\n",
              "      <td>1553.276979</td>\n",
              "    </tr>\n",
              "    <tr>\n",
              "      <th>2</th>\n",
              "      <td>IDCQS0CO5P29AMKY3LO1</td>\n",
              "      <td>Male</td>\n",
              "      <td>No</td>\n",
              "      <td>No</td>\n",
              "      <td>No</td>\n",
              "      <td>66</td>\n",
              "      <td>Yes</td>\n",
              "      <td>Satellite Broadband</td>\n",
              "      <td>No</td>\n",
              "      <td>No</td>\n",
              "      <td>No</td>\n",
              "      <td>Yes</td>\n",
              "      <td>Card</td>\n",
              "      <td>25.167690</td>\n",
              "      <td>1684.262416</td>\n",
              "    </tr>\n",
              "    <tr>\n",
              "      <th>3</th>\n",
              "      <td>1IY29SDITYU6IFZ4KJB0</td>\n",
              "      <td>Female</td>\n",
              "      <td>Yes</td>\n",
              "      <td>No</td>\n",
              "      <td>No</td>\n",
              "      <td>31</td>\n",
              "      <td>Yes</td>\n",
              "      <td>Satellite Broadband</td>\n",
              "      <td>No</td>\n",
              "      <td>No</td>\n",
              "      <td>Yes</td>\n",
              "      <td>Yes</td>\n",
              "      <td>Bank</td>\n",
              "      <td>55.560968</td>\n",
              "      <td>1829.874462</td>\n",
              "    </tr>\n",
              "    <tr>\n",
              "      <th>4</th>\n",
              "      <td>T5XMW5B0YPCONH30WJD2</td>\n",
              "      <td>Female</td>\n",
              "      <td>No</td>\n",
              "      <td>Yes</td>\n",
              "      <td>Yes</td>\n",
              "      <td>21</td>\n",
              "      <td>Yes</td>\n",
              "      <td>Satellite Broadband</td>\n",
              "      <td>No</td>\n",
              "      <td>No</td>\n",
              "      <td>No</td>\n",
              "      <td>No</td>\n",
              "      <td>Bank</td>\n",
              "      <td>20.070002</td>\n",
              "      <td>489.818170</td>\n",
              "    </tr>\n",
              "  </tbody>\n",
              "</table>\n",
              "</div>"
            ],
            "text/plain": [
              "                     ID     sex  ... QuarterlyPayment GrandPayment\n",
              "0  WMORTPCG3HTIPEFSGUFY    Male  ...        21.299937   151.092519\n",
              "1  GBLPEA16C3KGBO57KEFO  Female  ...        56.609623  1553.276979\n",
              "2  IDCQS0CO5P29AMKY3LO1    Male  ...        25.167690  1684.262416\n",
              "3  1IY29SDITYU6IFZ4KJB0  Female  ...        55.560968  1829.874462\n",
              "4  T5XMW5B0YPCONH30WJD2  Female  ...        20.070002   489.818170\n",
              "\n",
              "[5 rows x 15 columns]"
            ]
          },
          "metadata": {
            "tags": []
          },
          "execution_count": 51
        }
      ]
    },
    {
      "cell_type": "code",
      "metadata": {
        "colab": {
          "base_uri": "https://localhost:8080/"
        },
        "id": "hz24MWgZbBKX",
        "outputId": "0ea3b4d7-f74d-412e-a481-d8a7f3a1b0f6"
      },
      "source": [
        "df_test.info()"
      ],
      "execution_count": null,
      "outputs": [
        {
          "output_type": "stream",
          "text": [
            "<class 'pandas.core.frame.DataFrame'>\n",
            "RangeIndex: 705 entries, 0 to 704\n",
            "Data columns (total 15 columns):\n",
            " #   Column               Non-Null Count  Dtype  \n",
            "---  ------               --------------  -----  \n",
            " 0   ID                   705 non-null    object \n",
            " 1   sex                  705 non-null    object \n",
            " 2   Aged                 705 non-null    object \n",
            " 3   Married              705 non-null    object \n",
            " 4   TotalDependents      705 non-null    object \n",
            " 5   ServiceSpan          705 non-null    int64  \n",
            " 6   MobileService        705 non-null    object \n",
            " 7   4GService            705 non-null    object \n",
            " 8   CyberProtection      705 non-null    object \n",
            " 9   HardwareSupport      705 non-null    object \n",
            " 10  TechnicalAssistance  705 non-null    object \n",
            " 11  FilmSubscription     705 non-null    object \n",
            " 12  SettlementProcess    705 non-null    object \n",
            " 13  QuarterlyPayment     705 non-null    float64\n",
            " 14  GrandPayment         704 non-null    float64\n",
            "dtypes: float64(2), int64(1), object(12)\n",
            "memory usage: 82.7+ KB\n"
          ],
          "name": "stdout"
        }
      ]
    },
    {
      "cell_type": "code",
      "metadata": {
        "id": "jaGtDhLUgB9v"
      },
      "source": [
        "df_test['GrandPayment'] = df_test['GrandPayment'].fillna(df['GrandPayment'].mean())"
      ],
      "execution_count": null,
      "outputs": []
    },
    {
      "cell_type": "code",
      "metadata": {
        "colab": {
          "base_uri": "https://localhost:8080/"
        },
        "id": "3PNqn9s4gVWS",
        "outputId": "2a8ac9ce-f62c-400b-aacb-99f882f58909"
      },
      "source": [
        "df_test.isnull().sum()"
      ],
      "execution_count": null,
      "outputs": [
        {
          "output_type": "execute_result",
          "data": {
            "text/plain": [
              "ID                     0\n",
              "sex                    0\n",
              "Aged                   0\n",
              "Married                0\n",
              "TotalDependents        0\n",
              "ServiceSpan            0\n",
              "MobileService          0\n",
              "4GService              0\n",
              "CyberProtection        0\n",
              "HardwareSupport        0\n",
              "TechnicalAssistance    0\n",
              "FilmSubscription       0\n",
              "SettlementProcess      0\n",
              "QuarterlyPayment       0\n",
              "GrandPayment           0\n",
              "dtype: int64"
            ]
          },
          "metadata": {
            "tags": []
          },
          "execution_count": 54
        }
      ]
    },
    {
      "cell_type": "code",
      "metadata": {
        "id": "Ro2k0SX8gtwP"
      },
      "source": [
        "df_test = df_test.drop('ID',axis = 1)"
      ],
      "execution_count": null,
      "outputs": []
    },
    {
      "cell_type": "code",
      "metadata": {
        "id": "buuf89nlgdjW"
      },
      "source": [
        "df_test = pd.get_dummies(df_test)"
      ],
      "execution_count": null,
      "outputs": []
    },
    {
      "cell_type": "code",
      "metadata": {
        "colab": {
          "base_uri": "https://localhost:8080/"
        },
        "id": "J-H6u3Jqg5s5",
        "outputId": "b1a185db-cc08-4bbe-a27d-de050c125a16"
      },
      "source": [
        "df_test.columns"
      ],
      "execution_count": null,
      "outputs": [
        {
          "output_type": "execute_result",
          "data": {
            "text/plain": [
              "Index(['ServiceSpan', 'QuarterlyPayment', 'GrandPayment', 'sex_Female',\n",
              "       'sex_Male', 'Aged_No', 'Aged_Yes', 'Married_No', 'Married_Yes',\n",
              "       'TotalDependents_No', 'TotalDependents_Yes', 'MobileService_No',\n",
              "       'MobileService_Yes', '4GService_No', '4GService_Satellite Broadband',\n",
              "       '4GService_Wifi Broadband', 'CyberProtection_No', 'CyberProtection_Yes',\n",
              "       'HardwareSupport_No', 'HardwareSupport_Yes', 'TechnicalAssistance_No',\n",
              "       'TechnicalAssistance_Yes', 'FilmSubscription_No',\n",
              "       'FilmSubscription_Yes', 'SettlementProcess_Bank',\n",
              "       'SettlementProcess_Card', 'SettlementProcess_Check',\n",
              "       'SettlementProcess_Electronic'],\n",
              "      dtype='object')"
            ]
          },
          "metadata": {
            "tags": []
          },
          "execution_count": 57
        }
      ]
    },
    {
      "cell_type": "code",
      "metadata": {
        "id": "-WfAjSkYhF3e"
      },
      "source": [
        "df_test = df_test.drop(['sex_Female','Aged_No','Married_No','TotalDependents_No','MobileService_No','4GService_No','CyberProtection_No','HardwareSupport_No','TechnicalAssistance_No','FilmSubscription_No','SettlementProcess_Bank'],axis = 1)"
      ],
      "execution_count": null,
      "outputs": []
    },
    {
      "cell_type": "code",
      "metadata": {
        "colab": {
          "base_uri": "https://localhost:8080/"
        },
        "id": "oyS9kWRyhZtD",
        "outputId": "a5ccaef7-d005-488b-cdcc-a70042fc97e1"
      },
      "source": [
        "df_test.info()"
      ],
      "execution_count": null,
      "outputs": [
        {
          "output_type": "stream",
          "text": [
            "<class 'pandas.core.frame.DataFrame'>\n",
            "RangeIndex: 705 entries, 0 to 704\n",
            "Data columns (total 17 columns):\n",
            " #   Column                         Non-Null Count  Dtype  \n",
            "---  ------                         --------------  -----  \n",
            " 0   ServiceSpan                    705 non-null    int64  \n",
            " 1   QuarterlyPayment               705 non-null    float64\n",
            " 2   GrandPayment                   705 non-null    float64\n",
            " 3   sex_Male                       705 non-null    uint8  \n",
            " 4   Aged_Yes                       705 non-null    uint8  \n",
            " 5   Married_Yes                    705 non-null    uint8  \n",
            " 6   TotalDependents_Yes            705 non-null    uint8  \n",
            " 7   MobileService_Yes              705 non-null    uint8  \n",
            " 8   4GService_Satellite Broadband  705 non-null    uint8  \n",
            " 9   4GService_Wifi Broadband       705 non-null    uint8  \n",
            " 10  CyberProtection_Yes            705 non-null    uint8  \n",
            " 11  HardwareSupport_Yes            705 non-null    uint8  \n",
            " 12  TechnicalAssistance_Yes        705 non-null    uint8  \n",
            " 13  FilmSubscription_Yes           705 non-null    uint8  \n",
            " 14  SettlementProcess_Card         705 non-null    uint8  \n",
            " 15  SettlementProcess_Check        705 non-null    uint8  \n",
            " 16  SettlementProcess_Electronic   705 non-null    uint8  \n",
            "dtypes: float64(2), int64(1), uint8(14)\n",
            "memory usage: 26.3 KB\n"
          ],
          "name": "stdout"
        }
      ]
    },
    {
      "cell_type": "markdown",
      "metadata": {
        "id": "pWilzRwbbHxJ"
      },
      "source": [
        "# Training the classifier"
      ]
    },
    {
      "cell_type": "code",
      "metadata": {
        "id": "4oBfqXH-YH2X"
      },
      "source": [
        "y = df['CustomerAttrition_Yes'].values"
      ],
      "execution_count": null,
      "outputs": []
    },
    {
      "cell_type": "code",
      "metadata": {
        "colab": {
          "base_uri": "https://localhost:8080/"
        },
        "id": "oNLkTpHFigLj",
        "outputId": "eddc59a6-5de2-434f-c82f-5415e3c62704"
      },
      "source": [
        "X_test = df_test.values\n",
        "print(X_test.shape)"
      ],
      "execution_count": null,
      "outputs": [
        {
          "output_type": "stream",
          "text": [
            "(705, 17)\n"
          ],
          "name": "stdout"
        }
      ]
    },
    {
      "cell_type": "code",
      "metadata": {
        "id": "EOwFvkbcYUWs"
      },
      "source": [
        "df = df.drop('CustomerAttrition_Yes',axis = 1)"
      ],
      "execution_count": null,
      "outputs": []
    },
    {
      "cell_type": "code",
      "metadata": {
        "colab": {
          "base_uri": "https://localhost:8080/"
        },
        "id": "WL0LsjN3YeEP",
        "outputId": "1d7c52c4-f907-4c95-8718-468779a3cf03"
      },
      "source": [
        "df.columns"
      ],
      "execution_count": null,
      "outputs": [
        {
          "output_type": "execute_result",
          "data": {
            "text/plain": [
              "Index(['ServiceSpan', 'QuarterlyPayment', 'GrandPayment', 'sex_Male',\n",
              "       'Aged_Yes', 'Married_Yes', 'TotalDependents_Yes', 'MobileService_Yes',\n",
              "       '4GService_Satellite Broadband', '4GService_Wifi Broadband',\n",
              "       'CyberProtection_Yes', 'HardwareSupport_Yes', 'TechnicalAssistance_Yes',\n",
              "       'FilmSubscription_Yes', 'SettlementProcess_Card',\n",
              "       'SettlementProcess_Check', 'SettlementProcess_Electronic'],\n",
              "      dtype='object')"
            ]
          },
          "metadata": {
            "tags": []
          },
          "execution_count": 63
        }
      ]
    },
    {
      "cell_type": "code",
      "metadata": {
        "id": "3f2lZVaxYsYm"
      },
      "source": [
        "X = df.values"
      ],
      "execution_count": null,
      "outputs": []
    },
    {
      "cell_type": "markdown",
      "metadata": {
        "id": "wukeizMZv1z8"
      },
      "source": [
        "### Oversampling using Synthetic Minority Oversampling technique"
      ]
    },
    {
      "cell_type": "code",
      "metadata": {
        "id": "-29REF6UvGr-",
        "colab": {
          "base_uri": "https://localhost:8080/"
        },
        "outputId": "cd3ce2a8-e369-4cf7-8134-01d13b1f84d8"
      },
      "source": [
        "from imblearn.combine import SMOTETomek\n",
        "from imblearn.over_sampling import RandomOverSampler\n",
        "from imblearn.under_sampling import RandomUnderSampler"
      ],
      "execution_count": null,
      "outputs": [
        {
          "output_type": "stream",
          "text": [
            "/usr/local/lib/python3.7/dist-packages/sklearn/externals/six.py:31: FutureWarning: The module is deprecated in version 0.21 and will be removed in version 0.23 since we've dropped support for Python 2.7. Please rely on the official version of six (https://pypi.org/project/six/).\n",
            "  \"(https://pypi.org/project/six/).\", FutureWarning)\n",
            "/usr/local/lib/python3.7/dist-packages/sklearn/utils/deprecation.py:144: FutureWarning: The sklearn.neighbors.base module is  deprecated in version 0.22 and will be removed in version 0.24. The corresponding classes / functions should instead be imported from sklearn.neighbors. Anything that cannot be imported from sklearn.neighbors is now part of the private API.\n",
            "  warnings.warn(message, FutureWarning)\n"
          ],
          "name": "stderr"
        }
      ]
    },
    {
      "cell_type": "code",
      "metadata": {
        "colab": {
          "base_uri": "https://localhost:8080/"
        },
        "id": "-DMuIryAvZnn",
        "outputId": "6f765cf7-066a-4b8a-bbd2-68ba8376edc4"
      },
      "source": [
        "smk = SMOTETomek(random_state=42)\n",
        "#oversample = RandomOverSampler(sampling_strategy=1)\n",
        "# undersample = RandomUnderSampler(sampling_strategy='majority')\n",
        "X,y = smk.fit_sample(X,y)"
      ],
      "execution_count": null,
      "outputs": [
        {
          "output_type": "stream",
          "text": [
            "/usr/local/lib/python3.7/dist-packages/sklearn/utils/deprecation.py:87: FutureWarning: Function safe_indexing is deprecated; safe_indexing is deprecated in version 0.22 and will be removed in version 0.24.\n",
            "  warnings.warn(msg, category=FutureWarning)\n",
            "/usr/local/lib/python3.7/dist-packages/sklearn/utils/deprecation.py:87: FutureWarning: Function safe_indexing is deprecated; safe_indexing is deprecated in version 0.22 and will be removed in version 0.24.\n",
            "  warnings.warn(msg, category=FutureWarning)\n"
          ],
          "name": "stderr"
        }
      ]
    },
    {
      "cell_type": "code",
      "metadata": {
        "colab": {
          "base_uri": "https://localhost:8080/"
        },
        "id": "5TrMliBGgzJg",
        "outputId": "df2d9e88-3d14-4d2c-d113-1dc221b1df11"
      },
      "source": [
        "print(X.shape)\n",
        "print(y.shape)"
      ],
      "execution_count": null,
      "outputs": [
        {
          "output_type": "stream",
          "text": [
            "(8570, 17)\n",
            "(8570,)\n"
          ],
          "name": "stdout"
        }
      ]
    },
    {
      "cell_type": "code",
      "metadata": {
        "id": "YX9OXI0LtFqv",
        "colab": {
          "base_uri": "https://localhost:8080/"
        },
        "outputId": "6ea99988-a425-4235-d838-7ff55741b35e"
      },
      "source": [
        "from sklearn.preprocessing import StandardScaler\n",
        "sc_X = StandardScaler()\n",
        "X = sc_X.fit_transform(X)\n",
        "X_test = sc_X.transform(X_test)\n",
        "\n",
        "from sklearn.decomposition import PCA\n",
        "pca = PCA(n_components = 0.99)\n",
        "X = pca.fit_transform(X)\n",
        "X_test = pca.transform(X_test)\n",
        "explained_variance = pca.explained_variance_ratio_\n",
        "print(explained_variance)"
      ],
      "execution_count": null,
      "outputs": [
        {
          "output_type": "stream",
          "text": [
            "[0.20245695 0.11961171 0.09653713 0.07249329 0.06631901 0.06026443\n",
            " 0.05903805 0.05732622 0.05578455 0.04235392 0.0399057  0.0357596\n",
            " 0.0268872  0.02584925 0.02108477 0.01495275]\n"
          ],
          "name": "stdout"
        }
      ]
    },
    {
      "cell_type": "code",
      "metadata": {
        "id": "O1QuzTinYxy9"
      },
      "source": [
        "from sklearn.model_selection import train_test_split\n",
        "X_train,X_val,y_train,y_val = train_test_split(X,y,test_size = 0.2,random_state = 42)"
      ],
      "execution_count": null,
      "outputs": []
    },
    {
      "cell_type": "code",
      "metadata": {
        "colab": {
          "base_uri": "https://localhost:8080/"
        },
        "id": "efLamu6nZGTg",
        "outputId": "5992eb4e-fb78-4908-b9b5-c33a50e1d39d"
      },
      "source": [
        "print(X_train.shape)\n",
        "print(X_val.shape)\n",
        "print(y_train.shape)\n",
        "print(y_val.shape)"
      ],
      "execution_count": null,
      "outputs": [
        {
          "output_type": "stream",
          "text": [
            "(6856, 16)\n",
            "(1714, 16)\n",
            "(6856,)\n",
            "(1714,)\n"
          ],
          "name": "stdout"
        }
      ]
    },
    {
      "cell_type": "code",
      "metadata": {
        "id": "Qn5Km0dxZPpv"
      },
      "source": [
        "from xgboost import XGBClassifier\n",
        "from sklearn.tree import DecisionTreeClassifier\n",
        "from sklearn.ensemble import RandomForestClassifier\n",
        "from sklearn.svm import SVC\n",
        "from lightgbm import LGBMClassifier\n",
        "from sklearn.ensemble import GradientBoostingClassifier\n",
        "import statistics"
      ],
      "execution_count": null,
      "outputs": []
    },
    {
      "cell_type": "code",
      "metadata": {
        "id": "3ZJIkZVWZ1hz"
      },
      "source": [
        "#only implement when want to use validation data\n",
        "#tree = DecisionTreeClassifier()\n",
        "#tree.fit(X_train,y_train)\n",
        "#y_pred = tree.predict(X_val)\n",
        "#y_pred_train = tree.predict(X_train)\n",
        "\n",
        "# classifier = RandomForestClassifier(n_estimators = 150,criterion = 'entropy',random_state = 0,max_depth= 7)\n",
        "# classifier.fit(X_train,y_train)\n",
        "# y_pred = classifier.predict(X_val)\n",
        "# y_pred_train = classifier.predict(X_train)\n",
        "# y_prediction_test = classifier.predict(X_test)\n",
        "\n",
        "#SVM Classifier\n",
        "# svclassifier = SVC(kernel='rbf')\n",
        "# svclassifier.fit(X_train, y_train)\n",
        "# y_pred = svclassifier.predict(X_val)\n",
        "# y_pred_train = svclassifier.predict(X_train)\n",
        "\n",
        "#xgboost\n",
        "# xgb = XGBClassifier()\n",
        "# xgb.fit(X_train,y_train)\n",
        "# y_pred_train = xgb.predict(X_train)\n",
        "# y_pred = xgb.predict(X_val)\n",
        "# y_prediction_test = xgb.predict(X_test)"
      ],
      "execution_count": null,
      "outputs": []
    },
    {
      "cell_type": "code",
      "metadata": {
        "id": "_NmSXkmwiWLY",
        "colab": {
          "base_uri": "https://localhost:8080/"
        },
        "outputId": "83892144-e500-4f9f-f70a-75922c9607e2"
      },
      "source": [
        "#actual Training for submission\n",
        "xgb1 = XGBClassifier()\n",
        "# xgb1.fit(X,y)\n",
        "# y_prediction_test = xgb1.predict(X_test)\n",
        "#classifier1 = RandomForestClassifier(n_estimators = 150,criterion = 'entropy',random_state = 0,max_depth = 7)\n",
        "# classifier1.fit(X,y)\n",
        "# y_prediction_test = classifier1.predict(X_test)\n",
        "lgb = LGBMClassifier(learning_rate=0.1,max_depth=2,n_estimators=140,n_jobs=-1)\n",
        "gbc = GradientBoostingClassifier()\n",
        "#SVM Classifier\n",
        "# svclassifier1 = SVC(kernel='rbf')\n",
        "# svclassifier1.fit(X, y)\n",
        "# y_prediction_test = svclassifier1.predict(X_test)\n",
        "# from sklearn.linear_model import LogisticRegression\n",
        "# regressor = LogisticRegression(random_state = 0)\n",
        "\n",
        "#Voting Classifier\n",
        "from sklearn.ensemble import VotingClassifier\n",
        "voting_clf = VotingClassifier(estimators = [('Xgboost',xgb1),('lgbc',lgb),('GBC',gbc)],voting = 'hard')\n",
        "\n",
        "#Cross validation\n",
        "l = []\n",
        "from sklearn.model_selection import cross_val_score\n",
        "for k in range(5,21):\n",
        "  accuracy_vector = cross_val_score(estimator = voting_clf,X = X,y = y,cv = k)\n",
        "  # print('for k = ',k,'accuracy',accuracy_vector)\n",
        "  print('mean accuracy for k =',k,'is:', accuracy_vector.mean())\n",
        "  print('standard deviation for k =',k,'is:',accuracy_vector.std())\n",
        "  l.append(accuracy_vector.mean())\n",
        "print(statistics.mean(l))\n",
        "# gbc.fit(X,y)\n",
        "# lgb.fit(X,y)\n",
        "voting_clf.fit(X,y)\n",
        "y_pred_X = voting_clf.predict(X)\n",
        "y_prediction_test = voting_clf.predict(X_test)"
      ],
      "execution_count": null,
      "outputs": [
        {
          "output_type": "stream",
          "text": [
            "mean accuracy for k = 5 is: 0.8159859976662778\n",
            "standard deviation for k = 5 is: 0.0579433213926668\n",
            "mean accuracy for k = 6 is: 0.8197381471832959\n",
            "standard deviation for k = 6 is: 0.055404814401480866\n",
            "mean accuracy for k = 7 is: 0.8200888926999371\n",
            "standard deviation for k = 7 is: 0.05349176107687961\n",
            "mean accuracy for k = 8 is: 0.8200890897403738\n",
            "standard deviation for k = 8 is: 0.056392338300348066\n",
            "mean accuracy for k = 9 is: 0.8224225331965596\n",
            "standard deviation for k = 9 is: 0.05513073297415484\n",
            "mean accuracy for k = 10 is: 0.8263710618436406\n",
            "standard deviation for k = 10 is: 0.055030339367043685\n",
            "mean accuracy for k = 11 is: 0.8235808265333296\n",
            "standard deviation for k = 11 is: 0.05550424130696832\n",
            "mean accuracy for k = 12 is: 0.8224249606602548\n",
            "standard deviation for k = 12 is: 0.05700820621718716\n",
            "mean accuracy for k = 13 is: 0.8226673175079853\n",
            "standard deviation for k = 13 is: 0.05581926479480077\n",
            "mean accuracy for k = 14 is: 0.8237072425490044\n",
            "standard deviation for k = 14 is: 0.059618474571753004\n",
            "mean accuracy for k = 15 is: 0.8252483068595152\n",
            "standard deviation for k = 15 is: 0.05607890265180009\n",
            "mean accuracy for k = 16 is: 0.823832647510113\n",
            "standard deviation for k = 16 is: 0.055814724034224224\n",
            "mean accuracy for k = 17 is: 0.823592737425003\n",
            "standard deviation for k = 17 is: 0.062106313597034384\n",
            "mean accuracy for k = 18 is: 0.825690199210362\n",
            "standard deviation for k = 18 is: 0.05669011993168496\n",
            "mean accuracy for k = 19 is: 0.8252168497888561\n",
            "standard deviation for k = 19 is: 0.05693325935799822\n",
            "mean accuracy for k = 20 is: 0.825017972681524\n",
            "standard deviation for k = 20 is: 0.05791563049820678\n",
            "0.822854673941002\n"
          ],
          "name": "stdout"
        }
      ]
    },
    {
      "cell_type": "code",
      "metadata": {
        "colab": {
          "base_uri": "https://localhost:8080/"
        },
        "id": "K6wkfB4MBXlu",
        "outputId": "8b9bff1b-f59f-4fd5-e101-27ec938c9d09"
      },
      "source": [
        "lgb"
      ],
      "execution_count": null,
      "outputs": [
        {
          "output_type": "execute_result",
          "data": {
            "text/plain": [
              "LGBMClassifier(boosting_type='gbdt', class_weight=None, colsample_bytree=1.0,\n",
              "               importance_type='split', learning_rate=0.1, max_depth=2,\n",
              "               min_child_samples=20, min_child_weight=0.001, min_split_gain=0.0,\n",
              "               n_estimators=140, n_jobs=-1, num_leaves=31, objective=None,\n",
              "               random_state=None, reg_alpha=0.0, reg_lambda=0.0, silent=True,\n",
              "               subsample=1.0, subsample_for_bin=200000, subsample_freq=0)"
            ]
          },
          "metadata": {
            "tags": []
          },
          "execution_count": 74
        }
      ]
    },
    {
      "cell_type": "code",
      "metadata": {
        "colab": {
          "base_uri": "https://localhost:8080/"
        },
        "id": "pW4lmXvJqXcm",
        "outputId": "66aba97d-dae4-459e-b387-fa7f05111da0"
      },
      "source": [
        "voting_clf.estimators"
      ],
      "execution_count": null,
      "outputs": [
        {
          "output_type": "execute_result",
          "data": {
            "text/plain": [
              "[('Xgboost',\n",
              "  XGBClassifier(base_score=0.5, booster='gbtree', colsample_bylevel=1,\n",
              "                colsample_bynode=1, colsample_bytree=1, gamma=0,\n",
              "                learning_rate=0.1, max_delta_step=0, max_depth=3,\n",
              "                min_child_weight=1, missing=None, n_estimators=100, n_jobs=1,\n",
              "                nthread=None, objective='binary:logistic', random_state=0,\n",
              "                reg_alpha=0, reg_lambda=1, scale_pos_weight=1, seed=None,\n",
              "                silent=None, subsample=1, verbosity=1)),\n",
              " ('lgbc',\n",
              "  LGBMClassifier(boosting_type='gbdt', class_weight=None, colsample_bytree=1.0,\n",
              "                 importance_type='split', learning_rate=0.1, max_depth=2,\n",
              "                 min_child_samples=20, min_child_weight=0.001, min_split_gain=0.0,\n",
              "                 n_estimators=140, n_jobs=-1, num_leaves=31, objective=None,\n",
              "                 random_state=None, reg_alpha=0.0, reg_lambda=0.0, silent=True,\n",
              "                 subsample=1.0, subsample_for_bin=200000, subsample_freq=0)),\n",
              " ('GBC',\n",
              "  GradientBoostingClassifier(ccp_alpha=0.0, criterion='friedman_mse', init=None,\n",
              "                             learning_rate=0.1, loss='deviance', max_depth=3,\n",
              "                             max_features=None, max_leaf_nodes=None,\n",
              "                             min_impurity_decrease=0.0, min_impurity_split=None,\n",
              "                             min_samples_leaf=1, min_samples_split=2,\n",
              "                             min_weight_fraction_leaf=0.0, n_estimators=100,\n",
              "                             n_iter_no_change=None, presort='deprecated',\n",
              "                             random_state=None, subsample=1.0, tol=0.0001,\n",
              "                             validation_fraction=0.1, verbose=0,\n",
              "                             warm_start=False))]"
            ]
          },
          "metadata": {
            "tags": []
          },
          "execution_count": 75
        }
      ]
    },
    {
      "cell_type": "code",
      "metadata": {
        "id": "9QxxMUBZC80M",
        "colab": {
          "base_uri": "https://localhost:8080/"
        },
        "outputId": "8a6c920f-4f8a-40ed-87c6-7535c3dc9d19"
      },
      "source": [
        "gbc"
      ],
      "execution_count": null,
      "outputs": [
        {
          "output_type": "execute_result",
          "data": {
            "text/plain": [
              "GradientBoostingClassifier(ccp_alpha=0.0, criterion='friedman_mse', init=None,\n",
              "                           learning_rate=0.1, loss='deviance', max_depth=3,\n",
              "                           max_features=None, max_leaf_nodes=None,\n",
              "                           min_impurity_decrease=0.0, min_impurity_split=None,\n",
              "                           min_samples_leaf=1, min_samples_split=2,\n",
              "                           min_weight_fraction_leaf=0.0, n_estimators=100,\n",
              "                           n_iter_no_change=None, presort='deprecated',\n",
              "                           random_state=None, subsample=1.0, tol=0.0001,\n",
              "                           validation_fraction=0.1, verbose=0,\n",
              "                           warm_start=False)"
            ]
          },
          "metadata": {
            "tags": []
          },
          "execution_count": 76
        }
      ]
    },
    {
      "cell_type": "code",
      "metadata": {
        "colab": {
          "base_uri": "https://localhost:8080/"
        },
        "id": "9-DBbPY1xlBy",
        "outputId": "d0a05775-3978-4ddc-e70b-dc091029044d"
      },
      "source": [
        "from sklearn.metrics import confusion_matrix\n",
        "cm = confusion_matrix(y,y_pred_X)\n",
        "cm"
      ],
      "execution_count": null,
      "outputs": [
        {
          "output_type": "execute_result",
          "data": {
            "text/plain": [
              "array([[3634,  651],\n",
              "       [ 634, 3651]])"
            ]
          },
          "metadata": {
            "tags": []
          },
          "execution_count": 77
        }
      ]
    },
    {
      "cell_type": "code",
      "metadata": {
        "id": "8i-q8KU3xyi6",
        "colab": {
          "base_uri": "https://localhost:8080/"
        },
        "outputId": "6afa4d13-916e-47d3-f7d6-7d68c6a636cc"
      },
      "source": [
        "from sklearn.metrics import classification_report\n",
        "print(classification_report(y,y_pred_X))"
      ],
      "execution_count": null,
      "outputs": [
        {
          "output_type": "stream",
          "text": [
            "              precision    recall  f1-score   support\n",
            "\n",
            "           0       0.85      0.85      0.85      4285\n",
            "           1       0.85      0.85      0.85      4285\n",
            "\n",
            "    accuracy                           0.85      8570\n",
            "   macro avg       0.85      0.85      0.85      8570\n",
            "weighted avg       0.85      0.85      0.85      8570\n",
            "\n"
          ],
          "name": "stdout"
        }
      ]
    }
  ]
}